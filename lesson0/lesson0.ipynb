{
 "cells": [
  {
   "cell_type": "markdown",
   "metadata": {},
   "source": [
    "# 变量\n",
    "\n",
    "变量来源于数学，是计算机语言中能储存计算结果或能表示值的抽象概念\n",
    "\n",
    "由于变量让你能够把程序中准备使用的每一段数据都赋给一个简短、易于记忆的名字，因此它们十分有用\n",
    "\n",
    "变量声明后没有赋值的话，编译器会自动提示并赋予默认值\n",
    "\n",
    "## 命名规则\n",
    "\n",
    "1. 变量名必须以字母或下划线打头，名字中间只能由字母、数字和下划线“_”组成；最后一个字符可以是类型说明符；\n",
    "2. 变量名的长度不得超过255个字符；\n",
    "3. 变量名在有效的范围内必须是唯一的。有效的范围就是引用变量可以被程序识别、使用的作用范围\n",
    "4. 变量名不能是保留字（关键字），也不能是末尾带类型说明符的保留字，但可以把保留字嵌入变量名"
   ]
  },
  {
   "cell_type": "markdown",
   "metadata": {},
   "source": [
    "## 33个关键字\n",
    "\n",
    "| False  | None  | True   |        |         |          |          |\n",
    "|--------|-------|--------|--------|---------|----------|----------|\n",
    "| and    | as    | assert | break  | class   | continue | def      |\n",
    "| del    | elif  | else   | except | finally | for      | from     |\n",
    "| global | if    | import | in     | is      | lambda   | nonlocal |\n",
    "| not    | or    | pass   | raise  | return  | try      | while    |\n",
    "| with   | yield |        |        |         |          |          |"
   ]
  },
  {
   "cell_type": "markdown",
   "metadata": {},
   "source": [
    "## 生存期和作用域\n",
    "\n",
    "变量存在的时间称为存活期。Script级变量的存活期从被声明的一刻起，直到Script运行结束。\n",
    "\n",
    "变量的作用域由声明它的位置决定。\n",
    "\n",
    "## 类型\n",
    "\n",
    "每个变量都有类型，在初始化是可以对变量赋予默认值"
   ]
  },
  {
   "cell_type": "markdown",
   "metadata": {},
   "source": [
    "## 变量赋值\n",
    "\n",
    "`变量名 = 变量值`"
   ]
  },
  {
   "cell_type": "code",
   "execution_count": null,
   "metadata": {},
   "outputs": [],
   "source": []
  }
 ],
 "metadata": {
  "kernelspec": {
   "display_name": "Python 3",
   "language": "python",
   "name": "python3"
  },
  "language_info": {
   "codemirror_mode": {
    "name": "ipython",
    "version": 3
   },
   "file_extension": ".py",
   "mimetype": "text/x-python",
   "name": "python",
   "nbconvert_exporter": "python",
   "pygments_lexer": "ipython3",
   "version": "3.8.5"
  }
 },
 "nbformat": 4,
 "nbformat_minor": 4
}
