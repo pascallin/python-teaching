{
 "cells": [
  {
   "cell_type": "markdown",
   "id": "electric-curve",
   "metadata": {},
   "source": [
    "# 如何一本正经地进行编程"
   ]
  },
  {
   "cell_type": "code",
   "execution_count": null,
   "id": "proud-bridges",
   "metadata": {},
   "outputs": [],
   "source": [
    "因为我们要一本正经，所以我们这节课不编程，只讲概念"
   ]
  },
  {
   "cell_type": "markdown",
   "id": "robust-terrorist",
   "metadata": {},
   "source": [
    "## 运行环境"
   ]
  },
  {
   "cell_type": "markdown",
   "id": "nearby-jewelry",
   "metadata": {},
   "source": [
    "## IDE"
   ]
  },
  {
   "cell_type": "markdown",
   "id": "modern-madonna",
   "metadata": {},
   "source": [
    "## 代码管理(git)"
   ]
  },
  {
   "cell_type": "markdown",
   "id": "occupied-kenya",
   "metadata": {},
   "source": [
    "## 工程"
   ]
  },
  {
   "cell_type": "markdown",
   "id": "promotional-carolina",
   "metadata": {},
   "source": [
    "## 用户交互方式"
   ]
  },
  {
   "cell_type": "code",
   "execution_count": null,
   "id": "varying-deposit",
   "metadata": {},
   "outputs": [],
   "source": []
  }
 ],
 "metadata": {
  "kernelspec": {
   "display_name": "Python 3",
   "language": "python",
   "name": "python3"
  },
  "language_info": {
   "codemirror_mode": {
    "name": "ipython",
    "version": 3
   },
   "file_extension": ".py",
   "mimetype": "text/x-python",
   "name": "python",
   "nbconvert_exporter": "python",
   "pygments_lexer": "ipython3",
   "version": "3.7.8"
  }
 },
 "nbformat": 4,
 "nbformat_minor": 5
}
