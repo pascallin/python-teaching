{
 "cells": [
  {
   "cell_type": "markdown",
   "metadata": {},
   "source": [
    "# Lesson 2：繼續探索數據和函數\n",
    "\n",
    "上一節課講述了簡單的python數據類型和函數\n",
    "\n",
    "現實世界中，數據和算法往往沒有第一節課講得那麼簡單，這節課更深入地了解數據和函數\n",
    "\n",
    "在開始課程之前，先來講述些許概念，目的是為了讓你們為接下來複雜度會慢慢變高的課程提高信心。同時讓你們在實踐中能有更好的思路去解決問題。\n",
    "\n",
    "## 概念\n",
    "\n",
    "### 編程與現實\n",
    "\n",
    "上節課說的編程就是數據加算法，這是沒有錯的，只是這是狹義的，片面的。\n",
    "\n",
    "事實上，如果想用好編程，你需要一座連接程序世界（虛擬世界）與現實世界的橋樑 —— 抽象、映射、建模\n",
    "\n",
    "#### 抽象\n",
    "\n",
    "我這裡說的抽象，是指你需要去將現實世界的東西進行簡化，也就是化繁為簡\n",
    "\n",
    "#### 映射\n",
    "\n",
    "我這裡的映射，是指你需要將你抽象出來的東西映射到具體的數據結構\n",
    "\n",
    "#### 建模\n",
    "\n",
    "我這裡說的建模，就是指如何整理好數據結構\n",
    "\n",
    "現在不了解不要緊，今天的課程就是在讓你學會更高級的python用法的同時，能夠先簡單窺視一下這座橋樑。下面開始主要課程"
   ]
  },
  {
   "cell_type": "markdown",
   "metadata": {},
   "source": [
    "# Python中的複雜數據類型\n",
    "\n",
    "## List的其他更多操作\n",
    "\n",
    "第一節課大概講了list的創建、獲取單個或多個項、修改項的值以及獲取list長度\n",
    "\n",
    "其實list還有其他更強大的方法去讓我們更好地操作list\n",
    "\n",
    "常用的有\n",
    "```\n",
    "- list.append(x)\n",
    "- list.extend(iterable)\n",
    "- list.insert(i, x)\n",
    "- list.remove(x)\n",
    "- list.pop([i])\n",
    "- list.clear()\n",
    "- list.index(x[, start[, end]])\n",
    "- list.count(x)\n",
    "- list.sort(*, key=None, reverse=False)\n",
    "- list.reverse()\n",
    "- list.copy()\n",
    "```"
   ]
  },
  {
   "cell_type": "code",
   "execution_count": 10,
   "metadata": {},
   "outputs": [
    {
     "name": "stdout",
     "output_type": "stream",
     "text": [
      "['orange', 'apple', 'pear', 'banana', 'kiwi', 'apple', 'banana']\n",
      "2 個蘋果\n",
      "0 個柑橘\n",
      "香蕉在第 4 個\n",
      "從第四個開始數, 香蕉在第 7 個\n",
      "['banana', 'apple', 'kiwi', 'banana', 'pear', 'apple', 'orange']\n",
      "['banana', 'apple', 'kiwi', 'banana', 'pear', 'apple', 'orange', 'grape']\n",
      "按開頭英文字母順序排序後的結果是: ['apple', 'apple', 'banana', 'banana', 'grape', 'kiwi', 'orange', 'pear']\n",
      "拿出最後一個水果： pear\n",
      "拿出最後一個水果後： ['apple', 'apple', 'banana', 'banana', 'grape', 'kiwi', 'orange']\n"
     ]
    }
   ],
   "source": [
    "fruits = ['orange', 'apple', 'pear', 'banana', 'kiwi', 'apple', 'banana']\n",
    "print(fruits)\n",
    "print(fruits.count('apple'), '個蘋果')\n",
    "print(fruits.count('tangerine'), '個柑橘')\n",
    "print('香蕉在第',fruits.index('banana') + 1, '個')\n",
    "print('從第四個開始數,','香蕉在第', fruits.index('banana', 4) + 1, '個')  # Find next banana starting a position 4\n",
    "fruits.reverse()\n",
    "print(fruits)\n",
    "fruits.append('grape')\n",
    "print(fruits)\n",
    "fruits.sort()\n",
    "print('按開頭英文字母順序排序後的結果是:',fruits)\n",
    "print('拿出最後一個水果：', fruits.pop())\n",
    "print('拿出最後一個水果後：', fruits)"
   ]
  },
  {
   "cell_type": "markdown",
   "metadata": {},
   "source": [
    "上面的pop是直接取出最後一個元素，也可以直接刪除某一個或多個元素"
   ]
  },
  {
   "cell_type": "code",
   "execution_count": 13,
   "metadata": {},
   "outputs": [
    {
     "name": "stdout",
     "output_type": "stream",
     "text": [
      "['orange', 'apple', 'pear', 'banana', 'kiwi', 'apple', 'banana']\n",
      "['apple', 'pear', 'banana', 'kiwi', 'apple', 'banana']\n",
      "['apple', 'pear', 'apple', 'banana']\n",
      "[]\n"
     ]
    }
   ],
   "source": [
    "fruits = ['orange', 'apple', 'pear', 'banana', 'kiwi', 'apple', 'banana']\n",
    "print(fruits)\n",
    "del fruits[0]\n",
    "print(fruits)\n",
    "del fruits[2:4]\n",
    "print(fruits)\n",
    "del fruits[:]\n",
    "print(fruits)\n",
    "# 刪除整個變量\n",
    "del fruits\n",
    "# print(fruits)"
   ]
  },
  {
   "cell_type": "markdown",
   "metadata": {},
   "source": [
    "## Tuple（元組）\n",
    "\n",
    "元組的特點：\n",
    "- 不可修改\n",
    "- 用逗號分隔元素\n",
    "- 可以嵌套"
   ]
  },
  {
   "cell_type": "code",
   "execution_count": null,
   "metadata": {},
   "outputs": [],
   "source": [
    "t = 12345, 54321, 'hello!'\n",
    "t[0]\n",
    "t\n",
    "u = t, (1, 2, 3, 4, 5)\n",
    "u"
   ]
  },
  {
   "cell_type": "code",
   "execution_count": 2,
   "metadata": {},
   "outputs": [],
   "source": [
    "t = 12345, 54321, 'hello!'\n",
    "t[0] = 88888"
   ]
  },
  {
   "cell_type": "markdown",
   "metadata": {},
   "source": [
    "雖然不能修改元組的值，但是元組裡面的值如果可以修改還是可以修改的"
   ]
  },
  {
   "cell_type": "code",
   "execution_count": 4,
   "metadata": {},
   "outputs": [
    {
     "data": {
      "text/plain": [
       "([1, 2, 3, 4], [3, 2, 1])"
      ]
     },
     "execution_count": 4,
     "metadata": {},
     "output_type": "execute_result"
    }
   ],
   "source": [
    "v = ([1, 2, 3], [3, 2, 1])\n",
    "v[0].append(4)\n",
    "v"
   ]
  },
  {
   "cell_type": "markdown",
   "metadata": {},
   "source": [
    "使用元組進行變量賦值"
   ]
  },
  {
   "cell_type": "markdown",
   "metadata": {},
   "source": [
    "t = 12345, 54321, 'hello!'\n",
    "x, y, z = t\n",
    "print(x,y,z)"
   ]
  },
  {
   "cell_type": "markdown",
   "metadata": {},
   "source": [
    "## Sets（集合）\n",
    "\n",
    "特點：\n",
    "- 集合用大括號包起來\n",
    "- 集合裡面的值不能重複，意味著可以用集合來去重"
   ]
  },
  {
   "cell_type": "code",
   "execution_count": null,
   "metadata": {},
   "outputs": [],
   "source": [
    "basket = {'apple', 'orange', 'apple', 'pear', 'orange', 'banana'}\n",
    "basket\n",
    "'orange' in basket\n",
    "'crabgrass' in basket"
   ]
  },
  {
   "cell_type": "markdown",
   "metadata": {},
   "source": [
    "集合還有個很厲害的操作，可以進行`交並補`運算"
   ]
  },
  {
   "cell_type": "code",
   "execution_count": 8,
   "metadata": {},
   "outputs": [
    {
     "name": "stdout",
     "output_type": "stream",
     "text": [
      "{'d', 'b', 'r'}\n",
      "{'a', 'r', 'b', 'l', 'c', 'm', 'z', 'd'}\n",
      "{'c', 'a'}\n",
      "{'z', 'd', 'b', 'r', 'l', 'm'}\n"
     ]
    }
   ],
   "source": [
    "a = set('abracadabra')\n",
    "b = set('alacazam')\n",
    "print(\"a有的值，b沒有的值\", a - b)\n",
    "print(\"a有的值或b有的值（或）\", a | b)\n",
    "print(\"a和b都有的值（交）\"，a & b)\n",
    "print(a ^ b)"
   ]
  },
  {
   "cell_type": "markdown",
   "metadata": {},
   "source": [
    "## Dictionaries（字典）"
   ]
  },
  {
   "cell_type": "markdown",
   "metadata": {},
   "source": [
    "# 函數進階\n",
    "\n",
    "## 參數\n",
    "\n",
    "## 變量的作用域"
   ]
  },
  {
   "cell_type": "markdown",
   "metadata": {},
   "source": []
  }
 ],
 "metadata": {
  "kernelspec": {
   "display_name": "Python 3",
   "language": "python",
   "name": "python3"
  },
  "language_info": {
   "codemirror_mode": {
    "name": "ipython",
    "version": 3
   },
   "file_extension": ".py",
   "mimetype": "text/x-python",
   "name": "python",
   "nbconvert_exporter": "python",
   "pygments_lexer": "ipython3",
   "version": "3.7.8"
  }
 },
 "nbformat": 4,
 "nbformat_minor": 4
}
