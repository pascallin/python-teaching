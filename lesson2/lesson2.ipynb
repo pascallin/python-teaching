{
 "cells": [
  {
   "cell_type": "markdown",
   "metadata": {},
   "source": [
    "# Lesson 2：繼續探索數據和函數\n",
    "\n",
    "上一節課講述了簡單的python數據類型和函數\n",
    "\n",
    "現實世界中，數據和算法往往沒有第一節課講得那麼簡單，這節課更深入地了解數據和函數\n",
    "\n",
    "在開始課程之前，先來講述些許概念，目的是為了讓你們為接下來複雜度會慢慢變高的課程提高信心。同時讓你們在實踐中能有更好的思路去解決問題。\n",
    "\n",
    "## 概念\n",
    "\n",
    "### 編程與現實\n",
    "\n",
    "上節課說的編程就是數據加算法，這是沒有錯的，只是這是狹義的，片面的。\n",
    "\n",
    "事實上，如果想用好編程，你需要一座連接程序世界（虛擬世界）與現實世界的橋樑 —— 抽象、映射、建模\n",
    "\n",
    "#### 抽象\n",
    "\n",
    "我這裡說的抽象，是指你需要去將現實世界的東西進行簡化，也就是化繁為簡\n",
    "\n",
    "#### 映射\n",
    "\n",
    "我這裡的映射，是指你需要將你抽象出來的東西映射到具體的數據結構\n",
    "\n",
    "#### 建模\n",
    "\n",
    "我這裡說的建模，就是指如何整理好數據結構\n",
    "\n",
    "現在不了解不要緊，今天的課程就是在讓你學會更高級的python用法的同時，能夠先簡單窺視一下這座橋樑。下面開始主要課程"
   ]
  },
  {
   "cell_type": "markdown",
   "metadata": {},
   "source": [
    "# Python中的複雜數據類型\n",
    "\n",
    "## List的其他更多操作\n",
    "\n",
    "第一節課大概講了list的創建、獲取單個或多個項、修改項的值以及獲取list長度\n",
    "\n",
    "其實list還有其他更強大的方法去讓我們更好地操作list\n",
    "\n",
    "常用的有\n",
    "```\n",
    "- list.append(x)\n",
    "- list.extend(iterable)\n",
    "- list.insert(i, x)\n",
    "- list.remove(x)\n",
    "- list.pop([i])\n",
    "- list.clear()\n",
    "- list.index(x[, start[, end]])\n",
    "- list.count(x)\n",
    "- list.sort(*, key=None, reverse=False)\n",
    "- list.reverse()\n",
    "- list.copy()\n",
    "```"
   ]
  },
  {
   "cell_type": "code",
   "execution_count": null,
   "metadata": {},
   "outputs": [],
   "source": [
    "fruits = ['orange', 'apple', 'pear', 'banana', 'kiwi', 'apple', 'banana']\n",
    "print(fruits)\n",
    "print(fruits.count('apple'), '個蘋果')\n",
    "print(fruits.count('tangerine'), '個柑橘')\n",
    "print('香蕉在第',fruits.index('banana') + 1, '個')\n",
    "print('從第四個開始數,','香蕉在第', fruits.index('banana', 4) + 1, '個')  # Find next banana starting a position 4\n",
    "fruits.reverse()\n",
    "print(fruits)\n",
    "fruits.append('grape')\n",
    "print(fruits)\n",
    "fruits.sort()\n",
    "print('按開頭英文字母順序排序後的結果是:',fruits)\n",
    "print('拿出最後一個水果：', fruits.pop())\n",
    "print('拿出最後一個水果後：', fruits)"
   ]
  },
  {
   "cell_type": "markdown",
   "metadata": {},
   "source": [
    "上面的pop是直接取出最後一個元素，也可以直接刪除某一個或多個元素"
   ]
  },
  {
   "cell_type": "code",
   "execution_count": null,
   "metadata": {},
   "outputs": [],
   "source": [
    "fruits = ['orange', 'apple', 'pear', 'banana', 'kiwi', 'apple', 'banana']\n",
    "print(fruits)\n",
    "del fruits[0]\n",
    "print(fruits)\n",
    "del fruits[2:4]\n",
    "print(fruits)\n",
    "del fruits[:]\n",
    "print(fruits)\n",
    "# 刪除整個變量\n",
    "del fruits\n",
    "# print(fruits)"
   ]
  },
  {
   "cell_type": "markdown",
   "metadata": {},
   "source": [
    "## Tuple（元組）\n",
    "\n",
    "元組的特點：\n",
    "- 不可修改\n",
    "- 用逗號分隔元素\n",
    "- 可以嵌套"
   ]
  },
  {
   "cell_type": "code",
   "execution_count": null,
   "metadata": {},
   "outputs": [],
   "source": [
    "t = 12345, 54321, 'hello!'\n",
    "t[0]\n",
    "t\n",
    "u = t, (1, 2, 3, 4, 5)\n",
    "u"
   ]
  },
  {
   "cell_type": "code",
   "execution_count": null,
   "metadata": {},
   "outputs": [],
   "source": [
    "t = 12345, 54321, 'hello!'\n",
    "t[0] = 88888"
   ]
  },
  {
   "cell_type": "markdown",
   "metadata": {},
   "source": [
    "雖然不能修改元組的值，但是元組裡面的值如果可以修改還是可以修改的"
   ]
  },
  {
   "cell_type": "code",
   "execution_count": null,
   "metadata": {},
   "outputs": [],
   "source": [
    "v = ([1, 2, 3], [3, 2, 1])\n",
    "v[0].append(4)\n",
    "v"
   ]
  },
  {
   "cell_type": "markdown",
   "metadata": {},
   "source": [
    "使用元組進行變量賦值"
   ]
  },
  {
   "cell_type": "code",
   "execution_count": null,
   "metadata": {},
   "outputs": [],
   "source": [
    "t = 12345, 54321, 'hello!'\n",
    "x, y, z = t\n",
    "print(x,y,z)"
   ]
  },
  {
   "cell_type": "markdown",
   "metadata": {},
   "source": [
    "## Sets（集合）\n",
    "\n",
    "特點：\n",
    "- 集合用大括號包起來\n",
    "- 集合裡面的值不能重複，意味著可以用集合來去重"
   ]
  },
  {
   "cell_type": "code",
   "execution_count": null,
   "metadata": {},
   "outputs": [],
   "source": [
    "basket = {'apple', 'orange', 'apple', 'pear', 'orange', 'banana'}\n",
    "print(basket)\n",
    "print('orange' in basket)\n",
    "print('crabgrass' in basket)"
   ]
  },
  {
   "cell_type": "markdown",
   "metadata": {},
   "source": [
    "集合還有個很厲害的操作，可以進行`交並補`運算"
   ]
  },
  {
   "cell_type": "code",
   "execution_count": null,
   "metadata": {},
   "outputs": [],
   "source": [
    "a = set('abracadabra')\n",
    "b = set('alacazam')\n",
    "print(\"a有的值，b沒有的值（补）\", a - b)\n",
    "print(\"a有的值或b有的值（或）\", a | b)\n",
    "print(\"a和b都有的值（交）\", a & b)\n",
    "print(\"a和b不是同时有的\", a ^ b)"
   ]
  },
  {
   "cell_type": "markdown",
   "metadata": {},
   "source": [
    "## Dictionaries（字典）\n",
    "\n",
    "一个键值对列表"
   ]
  },
  {
   "cell_type": "code",
   "execution_count": null,
   "metadata": {},
   "outputs": [],
   "source": [
    "tel = {'jack': 4098, 'sape': 4139}\n",
    "# tel = dict([('sape', 4139), ('jack', 4098)])\n",
    "# tel = dict(sape=4139, jack=4098)\n",
    "\n",
    "tel['guido'] = 4127\n",
    "print(tel)\n",
    "print(tel['jack'])\n",
    "\n",
    "del tel['sape']\n",
    "tel['irv'] = 4127\n",
    "print(tel)\n",
    "\n",
    "print(list(tel))\n",
    "\n",
    "print(sorted(tel))\n",
    "\n",
    "print('guido' in tel)\n",
    "\n",
    "print('jack' not in tel)"
   ]
  },
  {
   "cell_type": "code",
   "execution_count": null,
   "metadata": {},
   "outputs": [],
   "source": [
    "{x: x**2 for x in (2, 4, 6)}"
   ]
  },
  {
   "cell_type": "markdown",
   "metadata": {},
   "source": [
    "## 遍历"
   ]
  },
  {
   "cell_type": "markdown",
   "metadata": {},
   "source": [
    "遍历dictionary"
   ]
  },
  {
   "cell_type": "code",
   "execution_count": null,
   "metadata": {},
   "outputs": [],
   "source": [
    "knights = {'gallahad': 'the pure', 'robin': 'the brave'}\n",
    "for k, v in knights.items():\n",
    "    print(k, v)"
   ]
  },
  {
   "cell_type": "markdown",
   "metadata": {},
   "source": [
    "遍历列表"
   ]
  },
  {
   "cell_type": "code",
   "execution_count": null,
   "metadata": {},
   "outputs": [],
   "source": [
    "for i, v in enumerate(['tic', 'tac', 'toe']):\n",
    "    print(i, v)"
   ]
  },
  {
   "cell_type": "markdown",
   "metadata": {},
   "source": [
    "遍历二维列表"
   ]
  },
  {
   "cell_type": "code",
   "execution_count": null,
   "metadata": {},
   "outputs": [],
   "source": [
    "questions = ['name', 'quest', 'favorite color']\n",
    "answers = ['lancelot', 'the holy grail', 'blue']\n",
    "\n",
    "# list(zip(questions, answers))\n",
    "\n",
    "for q, a in zip(questions, answers):\n",
    "    print('What is your {0}?  It is {1}.'.format(q, a))"
   ]
  },
  {
   "cell_type": "markdown",
   "metadata": {},
   "source": [
    "遍历集合"
   ]
  },
  {
   "cell_type": "code",
   "execution_count": null,
   "metadata": {},
   "outputs": [],
   "source": [
    "basket = ['apple', 'orange', 'apple', 'pear', 'orange', 'banana']\n",
    "for f in sorted(set(basket)):\n",
    "    print(f)"
   ]
  },
  {
   "cell_type": "markdown",
   "metadata": {},
   "source": [
    "# 函数\n",
    "\n",
    "第一节课讲了一个简单的函数，现在来详细讲解下函数的用法"
   ]
  },
  {
   "cell_type": "markdown",
   "metadata": {},
   "source": [
    "## 函数的定义"
   ]
  },
  {
   "cell_type": "markdown",
   "metadata": {},
   "source": [
    "一个求斐波那契数列的函数"
   ]
  },
  {
   "cell_type": "code",
   "execution_count": null,
   "metadata": {},
   "outputs": [],
   "source": [
    "def fib(n):    # write Fibonacci series up to n\n",
    "    \"\"\"Print a Fibonacci series up to n.\"\"\"\n",
    "    a, b = 0, 1\n",
    "    while a < n:\n",
    "        print(a, end=' ')\n",
    "        a, b = b, a+b\n",
    "\n",
    "fib(2000)\n",
    "print('\\n')\n",
    "print(fib(0))"
   ]
  },
  {
   "cell_type": "markdown",
   "metadata": {},
   "source": [
    "函数是用`def`关键字进行定义的，函数名后面可以跟参数，参数就是函数的`Input`，上面的函数是没有设置return值的，因此是没有`Output`的"
   ]
  },
  {
   "cell_type": "code",
   "execution_count": null,
   "metadata": {},
   "outputs": [],
   "source": [
    "def fib2(n):  # return Fibonacci series up to n\n",
    "    \"\"\"Return a list containing the Fibonacci series up to n.\"\"\"\n",
    "    result = []\n",
    "    a, b = 0, 1\n",
    "    while a < n:\n",
    "        result.append(a)    # see below\n",
    "        a, b = b, a+b\n",
    "    return result\n",
    "\n",
    "f100 = fib2(100)\n",
    "f100"
   ]
  },
  {
   "cell_type": "markdown",
   "metadata": {},
   "source": [
    "## 函数中的变量\n",
    "\n",
    "函数体中的变量是只存在于函数体内的，这个称为变量的作用域。变量的作用域控制了变量的产生和销毁，是在各个编程语言中实际编程中需要注意的变量特点。\n",
    "\n",
    "## 函数的参数\n",
    "\n",
    "有形式参数和实际参数的区分"
   ]
  },
  {
   "cell_type": "code",
   "execution_count": null,
   "metadata": {},
   "outputs": [],
   "source": [
    "def ask_ok(prompt, retries=4, reminder='Please try again!'):\n",
    "    while True:\n",
    "        ok = input(prompt)\n",
    "        if ok in ('y', 'ye', 'yes'):\n",
    "            return True\n",
    "        if ok in ('n', 'no', 'nop', 'nope'):\n",
    "            return False\n",
    "        retries = retries - 1\n",
    "        if retries < 0:\n",
    "            raise ValueError('invalid user response')\n",
    "        print(reminder)\n",
    "        \n",
    "ask_ok('Do you really want to quit?')\n",
    "ask_ok('OK to overwrite the file?', 2)\n",
    "ask_ok('OK to overwrite the file?', 2, 'Come on, only yes or no!')"
   ]
  },
  {
   "cell_type": "markdown",
   "metadata": {},
   "source": [
    "外部变量就是相对于函数在函数体外进行定义的变量，也可以通函数进行读取"
   ]
  },
  {
   "cell_type": "code",
   "execution_count": null,
   "metadata": {},
   "outputs": [],
   "source": [
    "i = 5\n",
    "\n",
    "def f(arg=i):\n",
    "    print(arg)\n",
    "\n",
    "i = 6\n",
    "f()"
   ]
  },
  {
   "cell_type": "markdown",
   "metadata": {},
   "source": [
    "还需要注意的是，默认参数只会执行一次，这种时候如果默认参数时一些不可改变的数据类型，就需要注意了"
   ]
  },
  {
   "cell_type": "code",
   "execution_count": null,
   "metadata": {},
   "outputs": [],
   "source": [
    "def f(a, L=[]):\n",
    "    L.append(a)\n",
    "    return L\n",
    "\n",
    "print(f(1))\n",
    "print(f(2))\n",
    "print(f(3))"
   ]
  },
  {
   "cell_type": "code",
   "execution_count": null,
   "metadata": {},
   "outputs": [],
   "source": [
    "def f(a, L=None):\n",
    "    if L is None:\n",
    "        L = []\n",
    "    L.append(a)\n",
    "    return L\n",
    "\n",
    "print(f(1))\n",
    "print(f(2))\n",
    "print(f(3))"
   ]
  },
  {
   "cell_type": "markdown",
   "metadata": {},
   "source": [
    "也可以定义一些`key=value`的参数"
   ]
  },
  {
   "cell_type": "code",
   "execution_count": null,
   "metadata": {},
   "outputs": [],
   "source": [
    "def parrot(voltage, state='a stiff', action='voom', type='Norwegian Blue'):\n",
    "    print(\"-- This parrot wouldn't\", action, end=' ')\n",
    "    print(\"if you put\", voltage, \"volts through it.\")\n",
    "    print(\"-- Lovely plumage, the\", type)\n",
    "    print(\"-- It's\", state, \"!\")\n",
    "    \n",
    "parrot(1000)                                          # 1 positional argument\n",
    "parrot(voltage=1000)                                  # 1 keyword argument\n",
    "parrot(voltage=1000000, action='VOOOOOM')             # 2 keyword arguments\n",
    "parrot(action='VOOOOOM', voltage=1000000)             # 2 keyword arguments\n",
    "parrot('a million', 'bereft of life', 'jump')         # 3 positional arguments\n",
    "parrot('a thousand', state='pushing up the daisies')  # 1 positional, 1 keyword"
   ]
  },
  {
   "cell_type": "code",
   "execution_count": null,
   "metadata": {},
   "outputs": [],
   "source": [
    "需要注意的是，参数列表的排列是有限制的，定义和调用时都需要注意，顺序是：`必填参数、可选参数、关键字参数`"
   ]
  },
  {
   "cell_type": "code",
   "execution_count": null,
   "metadata": {},
   "outputs": [],
   "source": [
    "def cheeseshop(kind, *arguments, **keywords):\n",
    "    print(\"-- Do you have any\", kind, \"?\")\n",
    "    print(\"-- I'm sorry, we're all out of\", kind)\n",
    "    for arg in arguments:\n",
    "        print(arg)\n",
    "    print(\"-\" * 40)\n",
    "    for kw in keywords:\n",
    "        print(kw, \":\", keywords[kw])\n",
    "        \n",
    "cheeseshop(\"Limburger\", \"It's very runny, sir.\",\n",
    "           \"It's really very, VERY runny, sir.\",\n",
    "           shopkeeper=\"Michael Palin\",\n",
    "           client=\"John Cleese\",\n",
    "           sketch=\"Cheese Shop Sketch\")"
   ]
  },
  {
   "cell_type": "markdown",
   "metadata": {},
   "source": [
    "也可以这样去定函数的参数列表\n",
    "```\n",
    "def f(pos1, pos2, /, pos_or_kwd, *, kwd1, kwd2):\n",
    "      -----------    ----------     ----------\n",
    "        |             |                  |\n",
    "        |        Positional or keyword   |\n",
    "        |                                - Keyword only\n",
    "         -- Positional only\n",
    "```"
   ]
  },
  {
   "cell_type": "code",
   "execution_count": null,
   "metadata": {},
   "outputs": [],
   "source": [
    "def combined_example(pos_only, /, standard, *, kwd_only):\n",
    "    print(pos_only, standard, kwd_only)\n",
    "    \n",
    "combined_example(1, 2, 3)\n",
    "combined_example(1, 2, kwd_only=3)\n",
    "combined_example(1, standard=2, kwd_only=3)\n",
    "combined_example(pos_only=1, standard=2, kwd_only=3)"
   ]
  },
  {
   "cell_type": "markdown",
   "metadata": {},
   "source": [
    "在一些情况下，参数的数量是不固定的，可以通过`*args`去获取所有参数，获取到的是一个`元组Tuple`"
   ]
  },
  {
   "cell_type": "code",
   "execution_count": null,
   "metadata": {},
   "outputs": [],
   "source": [
    "def concat(*args, sep=\"/\"):\n",
    "    return sep.join(args)\n",
    "\n",
    "concat(\"earth\", \"mars\", \"venus\")\n",
    "concat(\"earth\", \"mars\", \"venus\", sep=\".\")"
   ]
  },
  {
   "cell_type": "markdown",
   "metadata": {},
   "source": [
    "## Lambda函数\n",
    "\n",
    "用于快速方便地定义一个简短的函数，需要`lambda`关键字代替`def`去定义，并且忽略函数名\n",
    "\n",
    "lambda函数可以实现闭包函数"
   ]
  },
  {
   "cell_type": "code",
   "execution_count": null,
   "metadata": {},
   "outputs": [],
   "source": [
    "def make_incrementor(n):\n",
    "    return lambda x: x + n\n",
    "\n",
    "f = make_incrementor(42)\n",
    "print(f(0))\n",
    "print(f(1))\n",
    "print(f(2))"
   ]
  },
  {
   "cell_type": "markdown",
   "metadata": {},
   "source": [
    "# 实例：水果库存管理\n",
    "\n",
    "假设有一个水果店，需要对水果进行库存管理，只用这两节课学到的知识去实现，应该怎么做？\n",
    "\n",
    "先放轻松\n",
    "\n",
    "回顾课程一开始所讲现实与编程之间的桥梁，我们来实现一下"
   ]
  },
  {
   "cell_type": "markdown",
   "metadata": {},
   "source": [
    "### 抽象、映射、建模\n",
    "\n",
    "首先是抽象，对现实问题进行熵减，只提取相关的关键点\n",
    "\n",
    "水果库存管理需要有：水果的类型、水果的数量\n",
    "\n",
    "然后是映射，水果的类型在现实生活中是一个名称，映射到编程世界是一个字符串；水果的数量在现实生活中是一个自然数，也就是大于0的实数，映射到编程世界是一个大于0的整形数字\n",
    "\n",
    "最后是建模\n",
    "\n",
    "对水果进行库存管理，需要将水果和数量关联起来，也就是打包成一个实体，也就是数据的格式，在Python中，我们可以用字典去实现，字典可以存储多个`key-value`，所以也同时满足多个水果存在\n",
    "\n",
    "这就是整个过程，到这里我们已经有了完整的`数据结构`"
   ]
  },
  {
   "cell_type": "code",
   "execution_count": 107,
   "metadata": {},
   "outputs": [
    {
     "name": "stdout",
     "output_type": "stream",
     "text": [
      "{'Apple': 20, 'Orange': 10}\n"
     ]
    }
   ],
   "source": [
    "storage = {\"Apple\": 10}\n",
    "\n",
    "storage['Apple'] = 20\n",
    "storage['Orange'] = 10\n",
    "\n",
    "print(storage)"
   ]
  },
  {
   "cell_type": "markdown",
   "metadata": {},
   "source": [
    "### 算法实现\n",
    "\n",
    "有了数据结构，在这个问题中算法即函数的实现就是要提供管理水果库存的功能，也就是对数据结构的操作\n",
    "\n",
    "库存的管理简化成入库和出库"
   ]
  },
  {
   "cell_type": "code",
   "execution_count": 108,
   "metadata": {},
   "outputs": [
    {
     "name": "stdout",
     "output_type": "stream",
     "text": [
      "{'Apple': 11, 'Orange': 1}\n",
      "Sorry! not enough Orange, only 1 left\n",
      "Sorry! no Pear exist.\n",
      "{'Apple': 6, 'Orange': 1}\n"
     ]
    }
   ],
   "source": [
    "storage = {\"Apple\": 10}\n",
    "\n",
    "def comming(fruitName, amount):\n",
    "    if fruitName in storage.keys():\n",
    "        storage[fruitName] = storage[fruitName] + amount\n",
    "    else:\n",
    "        storage[fruitName] = amount\n",
    "    \n",
    "def sales(fruitName, amount):\n",
    "    if fruitName in storage.keys():\n",
    "        if storage[fruitName] - amount < 0:\n",
    "            print(f'Sorry! not enough {fruitName}, only {storage[fruitName]} left')\n",
    "        else:\n",
    "            storage[fruitName] = storage[fruitName] - amount\n",
    "    else:\n",
    "        print(f'Sorry! no {fruitName} exist.')\n",
    "\n",
    "comming(\"Apple\", 1)\n",
    "comming(\"Orange\", 1)\n",
    "print(storage)\n",
    "\n",
    "sales(\"Apple\", 5)\n",
    "sales(\"Orange\", 20)\n",
    "sales(\"Pear\", 1)\n",
    "print(storage)"
   ]
  },
  {
   "cell_type": "markdown",
   "metadata": {},
   "source": [
    "# 课程总结\n",
    "\n",
    "这节课更深入地讲解了Python的数据类型和函数，这能让我们构造更复杂的`数据结构 + 算法`的实现。"
   ]
  },
  {
   "cell_type": "code",
   "execution_count": null,
   "metadata": {},
   "outputs": [],
   "source": []
  }
 ],
 "metadata": {
  "kernelspec": {
   "display_name": "Python 3",
   "language": "python",
   "name": "python3"
  },
  "language_info": {
   "codemirror_mode": {
    "name": "ipython",
    "version": 3
   },
   "file_extension": ".py",
   "mimetype": "text/x-python",
   "name": "python",
   "nbconvert_exporter": "python",
   "pygments_lexer": "ipython3",
   "version": "3.8.5"
  }
 },
 "nbformat": 4,
 "nbformat_minor": 4
}
